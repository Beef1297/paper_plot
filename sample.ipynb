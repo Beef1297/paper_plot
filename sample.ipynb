{
 "cells": [
  {
   "cell_type": "markdown",
   "metadata": {},
   "source": [
    "# サンプルノートブック\n"
   ]
  },
  {
   "cell_type": "code",
   "execution_count": 1,
   "metadata": {},
   "outputs": [],
   "source": [
    "# ライブラリを更新しながら利用する場合は，反映させるためにこれを実行する\n",
    "%load_ext autoreload\n",
    "%autoreload 2"
   ]
  },
  {
   "cell_type": "code",
   "execution_count": null,
   "metadata": {},
   "outputs": [],
   "source": [
    "# リロードする場合\n",
    "%reload_ext autoreload"
   ]
  },
  {
   "cell_type": "code",
   "execution_count": 10,
   "metadata": {},
   "outputs": [],
   "source": [
    "import paper_plot as pplt"
   ]
  },
  {
   "cell_type": "code",
   "execution_count": 6,
   "metadata": {},
   "outputs": [
    {
     "name": "stdout",
     "output_type": "stream",
     "text": [
      "<class 'matplotlib.axes._subplots.AxesSubplot'>\n"
     ]
    },
    {
     "data": {
      "image/png": "[encoded data removed]",
      "text/plain": [
       "<Figure size 432x288 with 1 Axes>"
      ]
     },
     "metadata": {
      "needs_background": "light"
     },
     "output_type": "display_data"
    }
   ],
   "source": [
    "import matplotlib.pyplot as plt\n",
    "fig = plt.figure()\n",
    "ax = fig.add_subplot(111)\n",
    "print(type(ax))"
   ]
  },
  {
   "cell_type": "code",
   "execution_count": 3,
   "metadata": {},
   "outputs": [],
   "source": [
    "import matplotlib.pyplot as plt\n",
    "import matplotlib as mpl\n",
    "import numpy as np\n",
    "import seaborn as sns\n",
    "\n",
    "props = {\n",
    "    \"axes.grid\": True,\n",
    "    \"grid.linestyle\": '-',\n",
    "    \"xtick.direction\": 'in',\n",
    "    \"ytick.direction\": 'in',\n",
    "    \"xtick.top\": False,\n",
    "    \"ytick.right\": False,\n",
    "    \"xtick.bottom\": True,\n",
    "    \"ytick.left\": True,\n",
    "    \"axes.linewidth\": 1.0,\n",
    "    \"axes.axisbelow\": True\n",
    "}\n",
    "\n",
    "default_props = plt.rcParams.copy()\n",
    "# mpl.RcParams(props)\n",
    "plt.rcParams.update(props)"
   ]
  },
  {
   "cell_type": "markdown",
   "metadata": {},
   "source": [
    "## 使用例1"
   ]
  },
  {
   "cell_type": "code",
   "execution_count": 11,
   "metadata": {},
   "outputs": [
    {
     "data": {
      "image/png": "[encoded data removed]",
      "text/plain": [
       "<Figure size 360x360 with 1 Axes>"
      ]
     },
     "metadata": {
      "needs_background": "light"
     },
     "output_type": "display_data"
    },
    {
     "data": {
      "text/plain": [
       "<Figure size 460.8x316.8 with 0 Axes>"
      ]
     },
     "metadata": {},
     "output_type": "display_data"
    }
   ],
   "source": [
    "import paper_plot as pplt\n",
    "import seaborn as sns\n",
    "import numpy as np\n",
    "\n",
    "fmri = sns.load_dataset(\"fmri\")\n",
    "\n",
    "x = np.arange(0, 1, 0.01)\n",
    "x = x.reshape(-1, 1)\n",
    "y = x + 1*np.random.rand(100, 1)\n",
    "\n",
    "fig = pplt.initialize()\n",
    "ax1 = pplt.create_new_axis(fig, 111)\n",
    "pplt.boxplot(ax1, fmri.signal, pattern_label=None)\n",
    "pplt.regression(ax1, x, y)\n",
    "pplt.scatter(ax1, x, y)\n",
    "pplt.set_axes_params(fig, ax1)\n",
    "pplt.display_process()"
   ]
  },
  {
   "cell_type": "markdown",
   "metadata": {},
   "source": [
    "## Widgets の利用"
   ]
  },
  {
   "cell_type": "code",
   "execution_count": 11,
   "metadata": {},
   "outputs": [
    {
     "data": {
      "application/vnd.jupyter.widget-view+json": {
       "model_id": "7eca59b35e8f4010bd0d731414188d3d",
       "version_major": 2,
       "version_minor": 0
      },
      "text/plain": [
       "Canvas(toolbar=Toolbar(toolitems=[('Home', 'Reset original view', 'home', 'home'), ('Back', 'Back to previous …"
      ]
     },
     "metadata": {},
     "output_type": "display_data"
    }
   ],
   "source": [
    "%matplotlib widget\n",
    "import paper_plot as pplt\n",
    "import seaborn as sns\n",
    "import matplotlib.ticker as ticker\n",
    "\n",
    "\n",
    "import matplotlib.pyplot as plt\n",
    "from matplotlib.widgets import Slider\n",
    "\n",
    "fmri = sns.load_dataset(\"fmri\")\n",
    "fig = pplt.initialize(font_family=\"Arial\")\n",
    "ax1 = pplt.create_new_axis(fig, 111)\n",
    "slider_ax1 = fig.add_axes([0.0, -0.1, 1.0, 0.1], facecolor=\"green\")\n",
    "# slider_ax1 = pplt.create_new_axis(fig, 211)\n",
    "widgets_slider = Slider(slider_ax1, label=None, valmin=0, valmax=10,\n",
    "                       valinit=5, valstep=1, valfmt=\"%d\")\n",
    "pplt.scatter(ax1, fmri[\"timepoint\"], fmri[\"signal\"])\n",
    "# pplt.bar(ax1, fmri[\"timepoint\"], fmri[\"signal\"])\n",
    "pplt.set_axes_params(\n",
    "    fig, ax1,xlabel=\"timepoint\", ylabel=\"signal\",\n",
    "    ticklabelsize=15,\n",
    "#     ymaj_ticker=ticker.MultipleLocator(0.2),\n",
    "#     ymaj_ticker=ticker.MaxNLocator(10),\n",
    "    ymajtick_num=10,\n",
    "    **{\"ylim\": (-1.0, 1.0)}\n",
    ")\n",
    "# plt.show()\n",
    "# pplt.display_process()\n",
    "# pp.save(\"sample.png\")"
   ]
  },
  {
   "cell_type": "code",
   "execution_count": 38,
   "metadata": {},
   "outputs": [
    {
     "data": {
      "application/vnd.jupyter.widget-view+json": {
       "model_id": "cd6b231460b44a98a881595f8e533f2e",
       "version_major": 2,
       "version_minor": 0
      },
      "text/plain": [
       "VBox(children=(Select(options=('Apple', 'Banana', 'Cherry'), value='Apple'), Button(description='Click me', st…"
      ]
     },
     "metadata": {},
     "output_type": "display_data"
    }
   ],
   "source": [
    "from datetime import datetime\n",
    "\n",
    "import ipywidgets as widgets\n",
    "from traitlets.utils.bunch import Bunch\n",
    "from IPython.display import display\n",
    "\n",
    "\n",
    "def show_widgets() -> widgets.VBox:\n",
    "    \"\"\"ウィジェットを設定する関数\"\"\"\n",
    "    output = widgets.Output(layour={\"border\": \"1px solid black\"})\n",
    "\n",
    "    button = widgets.Button(description=\"Click me\")\n",
    "    select = widgets.Select(options=[\"Apple\", \"Banana\", \"Cherry\"])\n",
    "\n",
    "    def on_click(clicked_button: widgets.Button) -> None:\n",
    "        \"\"\"ボタンが押されたときに実行されるイベントハンドラ\"\"\"\n",
    "        with output:\n",
    "            # スコープ内の標準出力は Output に書き出される\n",
    "\n",
    "            # 表示エリアの内容を消去\n",
    "            output.clear_output()\n",
    "            print(f\"Clicked at {datetime.now()}\")\n",
    "        return\n",
    "    \n",
    "    @output.capture()\n",
    "    def on_value_change(change: Bunch) -> None:\n",
    "        # 値が変更されたイベントを扱う\n",
    "        # observe() を利用する\n",
    "        if change[\"name\"] == \"value\":\n",
    "            output.clear_output()\n",
    "            print(f\"value changed: {change['old']} -> {change['new']}\")\n",
    "            \n",
    "    @output.capture(clear_output=True)\n",
    "    def on_click_deco(b: widgets.Button) -> None:\n",
    "        print(f\"Clicked, selected item: {select.value}\")\n",
    "        return\n",
    "    \n",
    "    select.observe(on_value_change)\n",
    "    \n",
    "    #display(select, button, output) #この順番で描画される\n",
    "    #display をここで呼ばずに VBoxにウィジェットを入れて返す\n",
    "    return widgets.VBox([select, button, output])\n",
    "    \n",
    "box = show_widgets()\n",
    "display(box)"
   ]
  },
  {
   "cell_type": "code",
   "execution_count": 39,
   "metadata": {},
   "outputs": [
    {
     "data": {
      "application/vnd.jupyter.widget-view+json": {
       "model_id": "c2a08cae380749c0b947aa1052886cd6",
       "version_major": 2,
       "version_minor": 0
      },
      "text/plain": [
       "Select(description='select_value', options=('Apple', 'Banana', 'Cherry'), value='Apple')"
      ]
     },
     "metadata": {},
     "output_type": "display_data"
    },
    {
     "data": {
      "application/vnd.jupyter.widget-view+json": {
       "model_id": "5614f6e9f51341839f0cd0ae7a2b88f1",
       "version_major": 2,
       "version_minor": 0
      },
      "text/plain": [
       "IntSlider(value=50, description='slider', min=1)"
      ]
     },
     "metadata": {},
     "output_type": "display_data"
    },
    {
     "data": {
      "application/vnd.jupyter.widget-view+json": {
       "model_id": "9f7bd0d70c2f4ab69874116f0b8a0997",
       "version_major": 2,
       "version_minor": 0
      },
      "text/plain": [
       "Output()"
      ]
     },
     "metadata": {},
     "output_type": "display_data"
    }
   ],
   "source": [
    "# observe() を利用すると煩雑になってしまう． ipywidgets.interactive() を使った方が見通しがよくなるとのこと\n",
    "def show_widgets() -> None:\n",
    "    slider = widgets.IntSlider(value=50, min=1, max=100,\n",
    "                              description=\"slider\")\n",
    "    select = widgets.Select(options=[\"Apple\", \"Banana\", \"Cherry\"])\n",
    "    output = widgets.Output(layour={\"border\": \"1px solid black\"})\n",
    "    \n",
    "    @output.capture(clear_output=True)\n",
    "    def on_value_change(select_value: str, slider_value: int) -> None:\n",
    "        print(f\"value changed: {select_value=}, {slider_value=}\")\n",
    "    \n",
    "    # 複数のウィジェットの変更を一度に監視できる\n",
    "    widgets.interactive(on_value_change, select_value=select, slider_value=slider)\n",
    "    display(select, slider, output)\n",
    "\n",
    "show_widgets()"
   ]
  },
  {
   "cell_type": "code",
   "execution_count": 41,
   "metadata": {},
   "outputs": [
    {
     "data": {
      "application/vnd.jupyter.widget-view+json": {
       "model_id": "c5a2d5fd58b64d2b9f1199e13665588c",
       "version_major": 2,
       "version_minor": 0
      },
      "text/plain": [
       "interactive(children=(Checkbox(value=True, description='x'), FloatSlider(value=1.0, description='y', max=3.0, …"
      ]
     },
     "metadata": {},
     "output_type": "display_data"
    }
   ],
   "source": [
    "from ipywidgets import interact, interactive, fixed, interact_manual\n",
    "import ipywidgets as widgets\n",
    "\n",
    "def h(p, q):\n",
    "    return (p, q)\n",
    "\n",
    "@interact(x=True, y=1.0)\n",
    "def g(x, y):\n",
    "    return (x, y)\n",
    "\n",
    "# interact(h, p=5, q=fixed(20))\n"
   ]
  },
  {
   "cell_type": "code",
   "execution_count": 1,
   "metadata": {},
   "outputs": [
    {
     "name": "stdout",
     "output_type": "stream",
     "text": [
      "2261\n",
      "C:/texlive/2019/texmf-dist/fonts/opentype/impallari/librebodoni/LibreBodoni-Italic.otf\n",
      "sans\\-serif:style=normal:variant=normal:weight=normal:stretch=normal:file=C\\:/texlive/2019/texmf-dist/fonts/opentype/impallari/librebodoni/LibreBodoni-Italic.otf:size=10.0\n"
     ]
    }
   ],
   "source": [
    "# font 設定問題\n",
    "# https://qiita.com/f0o0o/items/c2f74ac1d27e48d0fed1\n",
    "# https://ricrowl.hatenablog.com/entry/2020/09/14/032424\n",
    "\n",
    "import matplotlib.font_manager as fmg\n",
    "flist = fmg.get_fontconfig_fonts()\n",
    "print(len(flist))\n",
    "print(flist[1500])\n",
    "print(fmg.FontProperties(fname=flist[1500]))\n",
    "fp_source = fmg.FontProperties(fname=flist[1500])\n",
    "names = [fmg.FontProperties(fname=fname).get_name() for fname in flist]\n",
    "# print(names)\n"
   ]
  },
  {
   "cell_type": "code",
   "execution_count": 12,
   "metadata": {},
   "outputs": [],
   "source": []
  },
  {
   "cell_type": "code",
   "execution_count": null,
   "metadata": {},
   "outputs": [],
   "source": []
  },
  {
   "cell_type": "code",
   "execution_count": 4,
   "metadata": {},
   "outputs": [
    {
     "name": "stderr",
     "output_type": "stream",
     "text": [
      "findfont: Font family ['Libre Bodoni'] not found. Falling back to DejaVu Sans.\n"
     ]
    },
    {
     "data": {
      "image/png": "[encoded data removed]",
      "text/plain": [
       "<Figure size 460.8x316.8 with 2 Axes>"
      ]
     },
     "metadata": {
      "needs_background": "light"
     },
     "output_type": "display_data"
    }
   ],
   "source": [
    "import matplotlib.pyplot as plt\n",
    "import numpy as np\n",
    "\n",
    "plt.style.use(\"seaborn-paper\")\n",
    "def f(t):\n",
    "    return np.exp(-t) * np.cos(2*np.pi*t)\n",
    "\n",
    "t1 = np.arange(0.0, 5.0, 0.1)\n",
    "t2 = np.arange(0.0, 5.0, 0.02)\n",
    "\n",
    "# plt.rcParams[\"font.family\"] = fp_source.get_name()\n",
    "\n",
    "plt.figure(1)\n",
    "plt.subplot(211)\n",
    "plt.plot(t1, f(t1), 'bo', t2, f(t2), 'k')\n",
    "\n",
    "plt.subplot(212)\n",
    "plt.plot(t2, np.cos(2*np.pi*t2), 'r--')\n",
    "plt.show()"
   ]
  },
  {
   "cell_type": "code",
   "execution_count": 4,
   "metadata": {},
   "outputs": [
    {
     "name": "stdout",
     "output_type": "stream",
     "text": [
      "check parameters (rcParams) including 'grid' ------\n",
      "axes.grid: True\n",
      "axes.grid.axis: both\n",
      "axes.grid.which: major\n",
      "axes3d.grid: True\n",
      "grid.alpha: 1.0\n",
      "grid.color: #b0b0b0\n",
      "grid.linestyle: -\n",
      "grid.linewidth: 0.8\n",
      "keymap.grid: ['g']\n",
      "keymap.grid_minor: ['G']\n",
      "polaraxes.grid: True\n"
     ]
    }
   ],
   "source": [
    "import paper_plot as pplt\n",
    "pplt.check_setting_matplotlib(\"grid\")"
   ]
  },
  {
   "cell_type": "code",
   "execution_count": 32,
   "metadata": {},
   "outputs": [],
   "source": []
  },
  {
   "cell_type": "code",
   "execution_count": 56,
   "metadata": {},
   "outputs": [],
   "source": []
  },
  {
   "cell_type": "markdown",
   "metadata": {},
   "source": []
  }
 ],
 "metadata": {
  "kernelspec": {
   "display_name": "Python 3",
   "language": "python",
   "name": "python3"
  },
  "language_info": {
   "codemirror_mode": {
    "name": "ipython",
    "version": 3
   },
   "file_extension": ".py",
   "mimetype": "text/x-python",
   "name": "python",
   "nbconvert_exporter": "python",
   "pygments_lexer": "ipython3",
   "version": "3.7.0"
  }
 },
 "nbformat": 4,
 "nbformat_minor": 4
}
